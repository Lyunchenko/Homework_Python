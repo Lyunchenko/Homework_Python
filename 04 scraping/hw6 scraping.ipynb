{
 "cells": [
  {
   "cell_type": "markdown",
   "metadata": {},
   "source": [
    "# Тема 6. Сбор данных со сторонних сайтов\n",
    "*coursera.org*"
   ]
  },
  {
   "cell_type": "markdown",
   "metadata": {},
   "source": [
    "### Класс для скрапинга"
   ]
  },
  {
   "cell_type": "code",
   "execution_count": 1,
   "metadata": {},
   "outputs": [],
   "source": [
    "import numpy as np\n",
    "import pandas as pd\n",
    "import requests\n",
    "from selenium import webdriver\n",
    "from selenium.webdriver.common.keys import Keys\n",
    "import lxml\n",
    "from bs4 import BeautifulSoup\n",
    "from tqdm import tqdm_notebook\n",
    "import pickle\n",
    "import time"
   ]
  },
  {
   "cell_type": "code",
   "execution_count": 2,
   "metadata": {},
   "outputs": [],
   "source": [
    "\n",
    "class Scrapping:\n",
    "       \n",
    "        \n",
    "    def __init__(self, url):\n",
    "        self.url = url\n",
    "        self.driver = webdriver.Chrome('chromedriver.exe')\n",
    "        \n",
    "        \n",
    "    def get_url(self, begin_href, url=None, type_load='requests'):\n",
    "        \n",
    "        begin_href = [begin_href] if type(begin_href) == str else begin_href\n",
    "        url = [self.url] if url==None else url\n",
    "        \n",
    "        answer = []\n",
    "        for u in tqdm_notebook(url):\n",
    "            soup = self._get_soupe(u, type_load)\n",
    "            link = soup.findAll('a')\n",
    "            for l in link:\n",
    "                temp = l.get('href')\n",
    "                for bh in begin_href:\n",
    "                    if temp[:len(bh)]  == bh:\n",
    "                        answer.append(self.url + temp)  \n",
    "        return(answer)\n",
    "    \n",
    "    \n",
    "    def _get_soupe(self, url, type_load):\n",
    "        if type_load == 'requests':\n",
    "            answer = requests.get(url)\n",
    "            html = answer.text\n",
    "        elif type_load == 'webdriver':\n",
    "            self.driver.get(url)\n",
    "            \n",
    "            # так себе вариант ожидания полной загрузки :(\n",
    "            html=None\n",
    "            while html != self.driver.page_source:\n",
    "                html = self.driver.page_source\n",
    "                time.sleep(5)\n",
    "            \n",
    "        return(BeautifulSoup(html, 'lxml'))\n",
    "    "
   ]
  },
  {
   "cell_type": "markdown",
   "metadata": {},
   "source": [
    "### Получение ссылок на страницы курсов и специализаций"
   ]
  },
  {
   "cell_type": "code",
   "execution_count": 6,
   "metadata": {},
   "outputs": [
    {
     "data": {
      "application/vnd.jupyter.widget-view+json": {
       "model_id": "d6b85339efb64a41b347b335b974b5b7",
       "version_major": 2,
       "version_minor": 0
      },
      "text/plain": [
       "HBox(children=(IntProgress(value=0, max=1), HTML(value='')))"
      ]
     },
     "metadata": {},
     "output_type": "display_data"
    },
    {
     "name": "stdout",
     "output_type": "stream",
     "text": [
      "\n"
     ]
    },
    {
     "data": {
      "application/vnd.jupyter.widget-view+json": {
       "model_id": "455c9c4d855d48019a32e1b278a841e4",
       "version_major": 2,
       "version_minor": 0
      },
      "text/plain": [
       "HBox(children=(IntProgress(value=0, max=11), HTML(value='')))"
      ]
     },
     "metadata": {},
     "output_type": "display_data"
    },
    {
     "name": "stdout",
     "output_type": "stream",
     "text": [
      "\n"
     ]
    }
   ],
   "source": [
    "obj_scr = Scrapping('https://www.coursera.org')\n",
    "browse = obj_scr.get_url('/browse/')\n",
    "learn = obj_scr.get_url(begin_href=['/learn/', '/specializations/'], url=browse, type_load = 'webdriver')"
   ]
  },
  {
   "cell_type": "code",
   "execution_count": null,
   "metadata": {},
   "outputs": [],
   "source": [
    "# Сохранение ссылок на страницы в дамп\n",
    "file = open('learn_link.pcl', 'wb')\n",
    "pickle.dump(learn, file)\n",
    "file.close()"
   ]
  },
  {
   "cell_type": "markdown",
   "metadata": {},
   "source": [
    "### Получение данных со страниц курсов и специализаций"
   ]
  },
  {
   "cell_type": "code",
   "execution_count": 7,
   "metadata": {},
   "outputs": [
    {
     "data": {
      "text/plain": [
       "891"
      ]
     },
     "execution_count": 7,
     "metadata": {},
     "output_type": "execute_result"
    }
   ],
   "source": [
    "# Востановление ссылок из дампа\n",
    "file = open('learn_link.pcl', 'rb')\n",
    "learn = pickle.load(file)\n",
    "file.close()\n",
    "len(learn)"
   ]
  },
  {
   "cell_type": "code",
   "execution_count": 24,
   "metadata": {},
   "outputs": [],
   "source": [
    "class ScrappingCoursera:\n",
    "    \n",
    "    \n",
    "    def __init__(self, links):\n",
    "        self.links = links\n",
    "        \n",
    "        chromeOptions = webdriver.ChromeOptions()\n",
    "        prefs = {\"profile.managed_default_content_settings.images\":2} # отключить изображения\n",
    "        chromeOptions.add_experimental_option(\"prefs\",prefs)\n",
    "        self.driver = webdriver.Chrome(executable_path='chromedriver.exe', chrome_options=chromeOptions)\n",
    "        self.driver.implicitly_wait(10)\n",
    "        \n",
    "        self.driver.get('https://www.coursera.org')\n",
    "        file = open('cookies.pcl', 'rb')\n",
    "        cookies = pickle.load(file)\n",
    "        file.close()\n",
    "        for cookie in cookies:\n",
    "            self.driver.add_cookie(cookie)\n",
    "\n",
    "    \n",
    "    def _get_page_data(self, url):\n",
    "        \n",
    "        self.driver.get(url)\n",
    "        data = {'link': url}\n",
    "        \n",
    "        try: data['head'] = self.driver.find_element_by_class_name('BannerTitle').\\\n",
    "                                        find_element_by_tag_name('h1').text\n",
    "        except Exception as e: data['head'] = ''\n",
    "        \n",
    "        try: data['instructor'] = self._get_instructors()\n",
    "        except Exception as e: data['instructor'] = ''\n",
    "        \n",
    "        try: data['about'] = self.driver.find_element_by_class_name('about-section').\\\n",
    "                                         find_element_by_tag_name('div').text\n",
    "        except Exception as e: data['about'] = ''\n",
    "        \n",
    "        try: data['skills'] = self._get_skills()\n",
    "        except Exception as e: data['skills'] = ''\n",
    "        \n",
    "        try: data['language'] = self.driver.find_element_by_id('Доступные языки').\\\n",
    "                                            find_element_by_xpath('../../..//h4').get_attribute('data-reactid')\n",
    "        except Exception as e: data['language'] = '!!!'\n",
    "        \n",
    "        try: data['duration'] = self.driver.find_element_by_id('Часов на завершение').\\\n",
    "                                            find_element_by_xpath('./../../..//h4').text\n",
    "        except Exception as e: data['duration'] = '!!!'\n",
    "        \n",
    "        return(data)\n",
    "    \n",
    "    def _get_instructors(self):\n",
    "        instructors = self.driver.find_element_by_class_name('Instructors').\\\n",
    "                                  find_elements_by_tag_name('h3')\n",
    "        temp = []\n",
    "        for instructor in instructors:\n",
    "            temp.append(instructor.text)\n",
    "        return('|'.join(temp))\n",
    "    \n",
    "    def _get_skills(self):\n",
    "        skills = self.driver.find_element_by_class_name('Skills').\\\n",
    "                             find_elements_by_xpath('./div/span')\n",
    "        temp = []\n",
    "        for skill in skills:\n",
    "            temp.append(skill.text)\n",
    "        return('|'.join(temp))\n",
    "        "
   ]
  },
  {
   "cell_type": "code",
   "execution_count": 25,
   "metadata": {},
   "outputs": [
    {
     "name": "stderr",
     "output_type": "stream",
     "text": [
      "c:\\users\\stanislav.lyunchenko\\appdata\\local\\programs\\python\\python37-32\\lib\\site-packages\\ipykernel_launcher.py:10: DeprecationWarning: use options instead of chrome_options\n",
      "  # Remove the CWD from sys.path while we load stuff.\n"
     ]
    },
    {
     "data": {
      "application/vnd.jupyter.widget-view+json": {
       "model_id": "9d01d2b7d2134ffb9ca8b250c997ef61",
       "version_major": 2,
       "version_minor": 0
      },
      "text/plain": [
       "HBox(children=(IntProgress(value=0, max=10), HTML(value='')))"
      ]
     },
     "metadata": {},
     "output_type": "display_data"
    },
    {
     "name": "stdout",
     "output_type": "stream",
     "text": [
      "\n"
     ]
    }
   ],
   "source": [
    "obj = ScrappingCoursera(learn)\n",
    "data = []\n",
    "for url in tqdm_notebook(learn[:10]):\n",
    "    data.append(obj._get_page_data(url))"
   ]
  },
  {
   "cell_type": "code",
   "execution_count": null,
   "metadata": {},
   "outputs": [],
   "source": [
    "# Сохранение в дамп\n",
    "import pickle\n",
    "file = open('data.pcl', 'wb')\n",
    "pickle.dump(data, file)\n",
    "file.close()"
   ]
  },
  {
   "cell_type": "code",
   "execution_count": 3,
   "metadata": {},
   "outputs": [
    {
     "data": {
      "text/plain": [
       "891"
      ]
     },
     "execution_count": 3,
     "metadata": {},
     "output_type": "execute_result"
    }
   ],
   "source": [
    "# Востановление из дампа\n",
    "file = open('data.pcl', 'rb')\n",
    "data = pickle.load(file)\n",
    "file.close()\n",
    "len(data)"
   ]
  },
  {
   "cell_type": "code",
   "execution_count": 26,
   "metadata": {},
   "outputs": [
    {
     "data": {
      "text/html": [
       "<div>\n",
       "<style scoped>\n",
       "    .dataframe tbody tr th:only-of-type {\n",
       "        vertical-align: middle;\n",
       "    }\n",
       "\n",
       "    .dataframe tbody tr th {\n",
       "        vertical-align: top;\n",
       "    }\n",
       "\n",
       "    .dataframe thead th {\n",
       "        text-align: right;\n",
       "    }\n",
       "</style>\n",
       "<table border=\"1\" class=\"dataframe\">\n",
       "  <thead>\n",
       "    <tr style=\"text-align: right;\">\n",
       "      <th></th>\n",
       "      <th>about</th>\n",
       "      <th>duration</th>\n",
       "      <th>head</th>\n",
       "      <th>instructor</th>\n",
       "      <th>language</th>\n",
       "      <th>link</th>\n",
       "      <th>skills</th>\n",
       "    </tr>\n",
       "  </thead>\n",
       "  <tbody>\n",
       "    <tr>\n",
       "      <th>0</th>\n",
       "      <td>This Specialization will develop and enhance y...</td>\n",
       "      <td></td>\n",
       "      <td>Специализация Become a Journalist: Report the ...</td>\n",
       "      <td>Jeremy Steele|David Poulson|Eric Freedman|Joe ...</td>\n",
       "      <td>201</td>\n",
       "      <td>https://www.coursera.org/specializations/becom...</td>\n",
       "      <td>Journalism|Writing|Professional|News Writing|M...</td>\n",
       "    </tr>\n",
       "    <tr>\n",
       "      <th>1</th>\n",
       "      <td>Welcome to Modern Art &amp; Ideas! This course is ...</td>\n",
       "      <td></td>\n",
       "      <td>Modern Art &amp; Ideas</td>\n",
       "      <td>Lisa Mazzola</td>\n",
       "      <td>248</td>\n",
       "      <td>https://www.coursera.org/learn/modern-art-ideas</td>\n",
       "      <td>Art History|Art|History|Art Direction</td>\n",
       "    </tr>\n",
       "    <tr>\n",
       "      <th>2</th>\n",
       "      <td>Graphic Design is all around us! Words and pic...</td>\n",
       "      <td></td>\n",
       "      <td>Fundamentals of Graphic Design</td>\n",
       "      <td>Michael Worthington</td>\n",
       "      <td>264</td>\n",
       "      <td>https://www.coursera.org/learn/fundamentals-of...</td>\n",
       "      <td>Creativity|Graphics|Design Theory|Color Theory</td>\n",
       "    </tr>\n",
       "    <tr>\n",
       "      <th>3</th>\n",
       "      <td>Graphic design is all around us, in a myriad o...</td>\n",
       "      <td></td>\n",
       "      <td>Специализация Graphic Design</td>\n",
       "      <td>Michael Worthington|Louise Sandhaus|Anther Kil...</td>\n",
       "      <td>201</td>\n",
       "      <td>https://www.coursera.org/specializations/graph...</td>\n",
       "      <td>Art History|History|Graphics|Graphic Design</td>\n",
       "    </tr>\n",
       "    <tr>\n",
       "      <th>4</th>\n",
       "      <td>This Specialization covers elements of three m...</td>\n",
       "      <td></td>\n",
       "      <td>Специализация Литературное творчество</td>\n",
       "      <td>Brando Skyhorse|Amy Bloom|Amity Gaige|Salvator...</td>\n",
       "      <td>201</td>\n",
       "      <td>https://www.coursera.org/specializations/creat...</td>\n",
       "      <td>Short Story Writing|Fiction Writing|Creativity...</td>\n",
       "    </tr>\n",
       "  </tbody>\n",
       "</table>\n",
       "</div>"
      ],
      "text/plain": [
       "                                               about duration  \\\n",
       "0  This Specialization will develop and enhance y...            \n",
       "1  Welcome to Modern Art & Ideas! This course is ...            \n",
       "2  Graphic Design is all around us! Words and pic...            \n",
       "3  Graphic design is all around us, in a myriad o...            \n",
       "4  This Specialization covers elements of three m...            \n",
       "\n",
       "                                                head  \\\n",
       "0  Специализация Become a Journalist: Report the ...   \n",
       "1                                 Modern Art & Ideas   \n",
       "2                     Fundamentals of Graphic Design   \n",
       "3                       Специализация Graphic Design   \n",
       "4              Специализация Литературное творчество   \n",
       "\n",
       "                                          instructor language  \\\n",
       "0  Jeremy Steele|David Poulson|Eric Freedman|Joe ...      201   \n",
       "1                                       Lisa Mazzola      248   \n",
       "2                                Michael Worthington      264   \n",
       "3  Michael Worthington|Louise Sandhaus|Anther Kil...      201   \n",
       "4  Brando Skyhorse|Amy Bloom|Amity Gaige|Salvator...      201   \n",
       "\n",
       "                                                link  \\\n",
       "0  https://www.coursera.org/specializations/becom...   \n",
       "1    https://www.coursera.org/learn/modern-art-ideas   \n",
       "2  https://www.coursera.org/learn/fundamentals-of...   \n",
       "3  https://www.coursera.org/specializations/graph...   \n",
       "4  https://www.coursera.org/specializations/creat...   \n",
       "\n",
       "                                              skills  \n",
       "0  Journalism|Writing|Professional|News Writing|M...  \n",
       "1              Art History|Art|History|Art Direction  \n",
       "2     Creativity|Graphics|Design Theory|Color Theory  \n",
       "3        Art History|History|Graphics|Graphic Design  \n",
       "4  Short Story Writing|Fiction Writing|Creativity...  "
      ]
     },
     "execution_count": 26,
     "metadata": {},
     "output_type": "execute_result"
    }
   ],
   "source": [
    "pd.DataFrame(data).head()"
   ]
  }
 ],
 "metadata": {
  "kernelspec": {
   "display_name": "Python 3",
   "language": "python",
   "name": "python3"
  },
  "language_info": {
   "codemirror_mode": {
    "name": "ipython",
    "version": 3
   },
   "file_extension": ".py",
   "mimetype": "text/x-python",
   "name": "python",
   "nbconvert_exporter": "python",
   "pygments_lexer": "ipython3",
   "version": "3.7.0"
  }
 },
 "nbformat": 4,
 "nbformat_minor": 2
}
